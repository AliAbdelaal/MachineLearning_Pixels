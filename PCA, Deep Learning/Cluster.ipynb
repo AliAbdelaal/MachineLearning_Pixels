{
 "cells": [
  {
   "cell_type": "code",
   "execution_count": 25,
   "metadata": {
    "collapsed": true
   },
   "outputs": [],
   "source": [
    "import numpy as np\n",
    "import pandas as pd\n",
    "import matplotlib.pyplot as plt\n",
    "%matplotlib inline\n",
    "from sklearn.feature_extraction.text import HashingVectorizer\n",
    "from sklearn.cluster import KMeans, MiniBatchKMeans\n",
    "from sklearn.model_selection import train_test_split"
   ]
  },
  {
   "cell_type": "code",
   "execution_count": 4,
   "metadata": {},
   "outputs": [
    {
     "data": {
      "text/html": [
       "<div>\n",
       "<style>\n",
       "    .dataframe thead tr:only-child th {\n",
       "        text-align: right;\n",
       "    }\n",
       "\n",
       "    .dataframe thead th {\n",
       "        text-align: left;\n",
       "    }\n",
       "\n",
       "    .dataframe tbody tr th {\n",
       "        vertical-align: top;\n",
       "    }\n",
       "</style>\n",
       "<table border=\"1\" class=\"dataframe\">\n",
       "  <thead>\n",
       "    <tr style=\"text-align: right;\">\n",
       "      <th></th>\n",
       "      <th>name</th>\n",
       "      <th>text</th>\n",
       "    </tr>\n",
       "  </thead>\n",
       "  <tbody>\n",
       "    <tr>\n",
       "      <th>0</th>\n",
       "      <td>Digby Morrell</td>\n",
       "      <td>digby morrell born 10 october 1979 is a former...</td>\n",
       "    </tr>\n",
       "    <tr>\n",
       "      <th>1</th>\n",
       "      <td>Alfred J. Lewy</td>\n",
       "      <td>alfred j lewy aka sandy lewy graduated from un...</td>\n",
       "    </tr>\n",
       "    <tr>\n",
       "      <th>2</th>\n",
       "      <td>Harpdog Brown</td>\n",
       "      <td>harpdog brown is a singer and harmonica player...</td>\n",
       "    </tr>\n",
       "    <tr>\n",
       "      <th>3</th>\n",
       "      <td>Franz Rottensteiner</td>\n",
       "      <td>franz rottensteiner born in waidmannsfeld lowe...</td>\n",
       "    </tr>\n",
       "    <tr>\n",
       "      <th>4</th>\n",
       "      <td>G-Enka</td>\n",
       "      <td>henry krvits born 30 december 1974 in tallinn ...</td>\n",
       "    </tr>\n",
       "  </tbody>\n",
       "</table>\n",
       "</div>"
      ],
      "text/plain": [
       "                  name                                               text\n",
       "0        Digby Morrell  digby morrell born 10 october 1979 is a former...\n",
       "1       Alfred J. Lewy  alfred j lewy aka sandy lewy graduated from un...\n",
       "2        Harpdog Brown  harpdog brown is a singer and harmonica player...\n",
       "3  Franz Rottensteiner  franz rottensteiner born in waidmannsfeld lowe...\n",
       "4               G-Enka  henry krvits born 30 december 1974 in tallinn ..."
      ]
     },
     "execution_count": 4,
     "metadata": {},
     "output_type": "execute_result"
    }
   ],
   "source": [
    "dataset = pd.read_csv('people_wiki.csv')\n",
    "dataset = dataset[['name','text']]\n",
    "dataset.head()"
   ]
  },
  {
   "cell_type": "markdown",
   "metadata": {},
   "source": [
    "# create the counter victorizer"
   ]
  },
  {
   "cell_type": "code",
   "execution_count": 15,
   "metadata": {},
   "outputs": [
    {
     "data": {
      "text/plain": [
       "HashingVectorizer(alternate_sign=True, analyzer='word', binary=False,\n",
       "         decode_error='strict', dtype=<class 'numpy.float64'>,\n",
       "         encoding='utf-8', input='content', lowercase=True,\n",
       "         n_features=1048576, ngram_range=(1, 1), non_negative=False,\n",
       "         norm='l2', preprocessor=None, stop_words='english',\n",
       "         strip_accents=None, token_pattern='(?u)\\\\b\\\\w\\\\w+\\\\b',\n",
       "         tokenizer=None)"
      ]
     },
     "execution_count": 15,
     "metadata": {},
     "output_type": "execute_result"
    }
   ],
   "source": [
    "hv = HashingVectorizer(stop_words='english')\n",
    "hv.fit(dataset['text'])"
   ]
  },
  {
   "cell_type": "code",
   "execution_count": 16,
   "metadata": {
    "collapsed": true
   },
   "outputs": [],
   "source": [
    "word_vectorizer = hv.transform(dataset['text'])"
   ]
  },
  {
   "cell_type": "code",
   "execution_count": 24,
   "metadata": {},
   "outputs": [
    {
     "data": {
      "text/plain": [
       "<59071x1048576 sparse matrix of type '<class 'numpy.float64'>'\n",
       "\twith 8077908 stored elements in Compressed Sparse Row format>"
      ]
     },
     "execution_count": 24,
     "metadata": {},
     "output_type": "execute_result"
    }
   ],
   "source": [
    "word_vectorizer"
   ]
  },
  {
   "cell_type": "code",
   "execution_count": 26,
   "metadata": {},
   "outputs": [
    {
     "name": "stderr",
     "output_type": "stream",
     "text": [
      "/home/ali/anaconda3/lib/python3.6/site-packages/sklearn/model_selection/_split.py:2010: FutureWarning: From version 0.21, test_size will always complement train_size unless both are specified.\n",
      "  FutureWarning)\n"
     ]
    }
   ],
   "source": [
    "x_train, x_test, y_train, y_test = train_test_split(word_vectorizer, dataset['name'], train_size=.8)"
   ]
  },
  {
   "cell_type": "code",
   "execution_count": 35,
   "metadata": {},
   "outputs": [
    {
     "data": {
      "text/plain": [
       "MiniBatchKMeans(batch_size=100, compute_labels=True, init='k-means++',\n",
       "        init_size=None, max_iter=100, max_no_improvement=10, n_clusters=5,\n",
       "        n_init=3, random_state=None, reassignment_ratio=0.01, tol=0.0,\n",
       "        verbose=0)"
      ]
     },
     "execution_count": 35,
     "metadata": {},
     "output_type": "execute_result"
    }
   ],
   "source": [
    "km = MiniBatchKMeans(init='k-means++', n_clusters=5)\n",
    "km.fit(x_train)"
   ]
  },
  {
   "cell_type": "code",
   "execution_count": 36,
   "metadata": {},
   "outputs": [
    {
     "data": {
      "text/plain": [
       "array([0, 0, 3, ..., 4, 0, 0], dtype=int32)"
      ]
     },
     "execution_count": 36,
     "metadata": {},
     "output_type": "execute_result"
    }
   ],
   "source": [
    "y_predictions = km.predict(x_train)\n",
    "y_predictions"
   ]
  },
  {
   "cell_type": "code",
   "execution_count": 49,
   "metadata": {},
   "outputs": [
    {
     "name": "stdout",
     "output_type": "stream",
     "text": [
      "[ 'shondell alfred born 1 january 1981 is a professional boxer from guyana she is one of the first female boxers from that country much like archie moore and other boxers of the past alfred had managed to keep her age a secret which is one of the reasons why she is nicknamed the mystery ladyalfred is a considered by many to be a candidate to become guyanas first womens boxing world champion she holds the wiba iberianamerican bantamweight title apart from fighting in her home country she has also boxed in other caribbean countries guyana like colombia surinam and venezuela is a south american country that is also regarded as a caribbean country as well as in europe and north americaalfred made her professional boxing debut on february 19 1999 beating stephanie george by a four round decision at georgetown after two more four round decision wins she went to canada where she would have her next two bouts on june 9 2000 she was stopped by doris hackl in the fourth round of a bout between undefeated fighters that was held in halifax and on september 23 she suffered her second knockout loss in a row defeated by lisa brown in two rounds at the ontario location of ramaafter losing to brown she returned home where she defeated joenette toby on august 6 2001 also by a four round decision on december 26 of that year she registered her first knockout win defeating adriana francis in the first roundalfred then left boxing for a year and a half when she returned she flew to barbados where she scored her second first round knockout in a row beating vicki boodram back home a rematch with george awaited the two fighters were now experienced and well known and the rematch was eagerly awaited for by guyanan boxing fans on december 26 exactly two years to the date that alfred scored her first knockout win she outpointed george for the second time this time over eight roundsher next fight took alfred to europe in that continent she boxed alexandra mattheus on february 28 2004 alfred lost by a four round decision the fight was held in denmarkher next fight against the well known alicia ashley was held in guyana on march 27 alfred was knocked down in round three and although she recuperated and lasted the eight round distance she lost by an eight round decisionimmediately after the fight with ashley alfred was given her first chance at winning a championship on november 22 she boxed boodran in a rematch for the wiba iberianamerican bantamweight title the fight was held in trinidad and tobago alfred once again beat boodram by knockout this time in the third roundafter conquering that regional belt a third fight with george was set to be held on january 29 2005 their rubber match however was suspended and there are no future plans to carry that fight outshondell alfred has 8 wins and 4 losses with 3 wins by knockout']\n",
      "-------------------\n",
      "[ 'lior haramaty born in telaviv israel in 1966 is the cofounder of vocaltec inc 1989 and the inventor of the audio transceiver that enabled the creation of voice over networks products and eventually the voip industry that changed the face of the telecommunication industryvocaltec is recognized as the first company to provide internet voice technology worldwide which in 1996 was one of the earliest successful internet ipos nasdaq voclin 2006 lior was selected by internet telephony magazine as one of the top 100 voices of ip communications for his contributions to the voip industry and in 2005 he was awarded the von visionary award by pulvercom according to om malik two entrepreneurs barely out of their teens lior haramaty and alon cohen founded vocaltec communications in 1993 based on the promise of packet voice technology they observed as members of the israel defense forces the idea of commercializing packet voice did not occur to anyone until the arrival of lior and alontmcnets internet telephony magazine in fact at that time the companys cto lior haramaty knew more about voip than just about anyone else and we were fortunate to have him as a columnist in this magazine for a number of yearsntia new directions in telecom a conversation with assistant secretary larry irving lior haramaty cofounder and vice president of technical marketing of vocaltec communications']\n"
     ]
    },
    {
     "data": {
      "text/html": [
       "<div>\n",
       "<style>\n",
       "    .dataframe thead tr:only-child th {\n",
       "        text-align: right;\n",
       "    }\n",
       "\n",
       "    .dataframe thead th {\n",
       "        text-align: left;\n",
       "    }\n",
       "\n",
       "    .dataframe tbody tr th {\n",
       "        vertical-align: top;\n",
       "    }\n",
       "</style>\n",
       "<table border=\"1\" class=\"dataframe\">\n",
       "  <thead>\n",
       "    <tr style=\"text-align: right;\">\n",
       "      <th></th>\n",
       "      <th>names</th>\n",
       "      <th>cluster</th>\n",
       "    </tr>\n",
       "  </thead>\n",
       "  <tbody>\n",
       "    <tr>\n",
       "      <th>30659</th>\n",
       "      <td>Shondell Alfred</td>\n",
       "      <td>0</td>\n",
       "    </tr>\n",
       "    <tr>\n",
       "      <th>38853</th>\n",
       "      <td>Lior Haramaty</td>\n",
       "      <td>0</td>\n",
       "    </tr>\n",
       "    <tr>\n",
       "      <th>52532</th>\n",
       "      <td>Tony Selby</td>\n",
       "      <td>0</td>\n",
       "    </tr>\n",
       "    <tr>\n",
       "      <th>6583</th>\n",
       "      <td>David Malone (television producer)</td>\n",
       "      <td>0</td>\n",
       "    </tr>\n",
       "    <tr>\n",
       "      <th>34751</th>\n",
       "      <td>Brian Freeman</td>\n",
       "      <td>0</td>\n",
       "    </tr>\n",
       "  </tbody>\n",
       "</table>\n",
       "</div>"
      ],
      "text/plain": [
       "                                    names  cluster\n",
       "30659                     Shondell Alfred        0\n",
       "38853                       Lior Haramaty        0\n",
       "52532                          Tony Selby        0\n",
       "6583   David Malone (television producer)        0\n",
       "34751                       Brian Freeman        0"
      ]
     },
     "execution_count": 49,
     "metadata": {},
     "output_type": "execute_result"
    }
   ],
   "source": [
    "results = pd.DataFrame()\n",
    "results['names'] = y_train\n",
    "results['cluster'] = y_predictions\n",
    "print(dataset['text'][dataset['name']=='Shondell Alfred'].values)\n",
    "print(\"-------------------\")\n",
    "print(dataset['text'][dataset['name']=='Lior Haramaty'].values)\n",
    "results[results['cluster']==0].head()"
   ]
  },
  {
   "cell_type": "code",
   "execution_count": 50,
   "metadata": {},
   "outputs": [
    {
     "name": "stdout",
     "output_type": "stream",
     "text": [
      "[ 'james kash beauchamp born january 8 1963 in bartlesville oklahoma is the son of jim beauchamp and a former minor league baseball outfielder and manager beauchamp originally attended grove high school in oklahoma and then bacone college he was drafted first overall by the toronto blue jays in the 1982 january amateur draft ahead of names such as kirby puckett and randy myersbeauchamp played 12 seasons in the minors seeing moderate success but never reaching the majors although he did get as high as triplea he displayed good speed at the beginning of his professional career stealing as many as 25 bases in a season although as his career went on he stole less and less each yearin 1984 he was the mvp of the carolina league allstar game going 5for6 with a home run two triples and five rbi he was voted best defensive outfielder and outfielder with the best arm that year by baseball americabeauchamp was the first player to be signed to a professional major league affiliated contract out of the independent leagues when after hitting 367 with the rochester aces of the northern league in 1993 he was signed by the cincinnati redshe ended his playing career in 1995 and afterward he began managing and coaching various teams in different independent leagues from 1995 to 1997 he was a hitting coach in the montreal expos farm system from 1998 to 2000 he managed the new jersey jackals of the northeast league he managed the lincoln saltdogs in 2001 and then the adirondack lumberjacks for the next three seasons he didnt manage in 2005 instead serving as the scouting director for the golden baseball league during his time with the golden league he was picked up as hitting coach for the samurai bears he also had a role in the movie season of the samurai he managed the pensacola pelicans of the american association in 2006 in 2007 he served as vice presidentdirector of baseball operations for the south coast league he also served as manager of the leagues anderson joes franchise for the final 37 games of the 2007 season beauchamp left both positions in november 2007 to become manager of the wichita wingnuts of the american associationon july 9 2008 beauchamp had a major tirade taking off his shoe and trying to make the umpire smell his shoe along with his armpit he received a fourgame suspension for his actions his extreme emotional blowup arguing the controversial call on behalf of his players received national attention via major television networks and has become something of an internet sensation at the end of the 2008 season the wingnuts decided not to retain beauchamp as their managerbeauchamp is now a private instructor and coaches academy teams for perfect practice athletic center in tulsa ok']\n",
      "-------------------\n",
      "[ 'shane loveless born 15 november 1958 is a former australian rules footballer who played with footscray in the victorian football league vflloveless is best known as a prolific fullforward in country football mostly for victoria clubs starting at latrobe valley football league club sale he would continue playing across the state until the age of 46 by which time he had amassed over 2000 goals from no less than 16 clubsafter arriving at footscray from sale loveless put together just two games in the 1979 vfl season but became their regular fullforward in 1980 he had his best run of form midseason with eight goals in a win over fitzroy and another seven against south melbourne the following week another eight goal haul came soon after against hawthorn at western oval and he finished the year with 44 goals it was not enough to top footscrays goalkicking which went yet again to kelvin templeton with loveless spending the season in the goalsquare templeton had been used as a centre halfforward and won the 1980 brownlow medal loveless was however footscrays equal leading goalkicker in 1981 with jim edmond on 25 goals as templeton was injured for most of the year in 1982 footscray recruited wafl star simon beasley who took one of the clubs keyforward positions as a result loveless was stuck in the reserves and despite good performances was not able to earn a callup to the seniors and decided to leave the vflhe was recruited by glenorchy for the remainder of their 1982 tasmanian football league campaign a fourweek suspension for striking ray riewoldt uncle of afl players jack and nick riewoldt meant he would play only a few tfl gamesfor the rest of his career loveless was constantly on the move setting new goalkicking records as he went he twice kicked 25 goals in a league game and managed to top 100 goals in a season on seven occasions back at sale in 1986 he participated in their only premiership of the decade one of five premiership teams that he played inhis complete list of clubs are sale footscray glenorchy tatura kyabram nambrok gunbower casterton south gambier apsley kerang rovers colbinabbin ardmona nagambie heyfield and boisdalebriagolong']\n"
     ]
    },
    {
     "data": {
      "text/html": [
       "<div>\n",
       "<style>\n",
       "    .dataframe thead tr:only-child th {\n",
       "        text-align: right;\n",
       "    }\n",
       "\n",
       "    .dataframe thead th {\n",
       "        text-align: left;\n",
       "    }\n",
       "\n",
       "    .dataframe tbody tr th {\n",
       "        vertical-align: top;\n",
       "    }\n",
       "</style>\n",
       "<table border=\"1\" class=\"dataframe\">\n",
       "  <thead>\n",
       "    <tr style=\"text-align: right;\">\n",
       "      <th></th>\n",
       "      <th>names</th>\n",
       "      <th>cluster</th>\n",
       "    </tr>\n",
       "  </thead>\n",
       "  <tbody>\n",
       "    <tr>\n",
       "      <th>3368</th>\n",
       "      <td>Kash Beauchamp</td>\n",
       "      <td>1</td>\n",
       "    </tr>\n",
       "    <tr>\n",
       "      <th>39470</th>\n",
       "      <td>Shane Loveless</td>\n",
       "      <td>1</td>\n",
       "    </tr>\n",
       "    <tr>\n",
       "      <th>1775</th>\n",
       "      <td>Zack Greinke</td>\n",
       "      <td>1</td>\n",
       "    </tr>\n",
       "    <tr>\n",
       "      <th>24457</th>\n",
       "      <td>Elkin Reilly</td>\n",
       "      <td>1</td>\n",
       "    </tr>\n",
       "    <tr>\n",
       "      <th>14661</th>\n",
       "      <td>Baruch Dego</td>\n",
       "      <td>1</td>\n",
       "    </tr>\n",
       "  </tbody>\n",
       "</table>\n",
       "</div>"
      ],
      "text/plain": [
       "                names  cluster\n",
       "3368   Kash Beauchamp        1\n",
       "39470  Shane Loveless        1\n",
       "1775     Zack Greinke        1\n",
       "24457    Elkin Reilly        1\n",
       "14661     Baruch Dego        1"
      ]
     },
     "execution_count": 50,
     "metadata": {},
     "output_type": "execute_result"
    }
   ],
   "source": [
    "print(dataset['text'][dataset['name']=='Kash Beauchamp'].values)\n",
    "print(\"-------------------\")\n",
    "print(dataset['text'][dataset['name']=='Shane Loveless'].values)\n",
    "results[results['cluster']==1].head()"
   ]
  },
  {
   "cell_type": "code",
   "execution_count": 51,
   "metadata": {},
   "outputs": [
    {
     "name": "stdout",
     "output_type": "stream",
     "text": [
      "[ 'william linhart born march 3 1943 better known as buzzy linhart is an american rock performer and musicianborn in pittsburgh pennsylvania he began playing percussion for symphony at the age of seven switching to vibraphone at ten at fourteen he entered the cleveland music school settlement which was a world renowned conservatory of music because of this training he led bands all through school and at the age of 18 entered the us navy school of music as a percussionist in 1963 he moved to new york city and became friends and roommates with john sebastian he also became a protg to the senior guitarist and folk singer fred neil one of his first bands with fellow musicians steve de naut serge katzen and max ochs was seventh sons who released a ragarock lp for esp records buzzy eventually released a series of solo albums from the late 1960s to the mid1970s starting with his philips debut buzzy the title with a small b in 1969 his prowess on the vibraphone found him performing as a session musician on recordings by buffy saintemarie richie havens carly simon cat mother the all night newsboys and jimi hendrix on the cry of love album and he is credited on electric ladyland linhart is joint composer of you got to have friends a collaboration with mark moogy klingman which became singer bette midlers de facto theme song this was the end of his major label career but although he never achieved commercial success linhart has continued to write record sing and compose music to this day he also achieved some notoriety from his appearance in the opening sequence of the cult movie the groove tube as a hippie hitchhiker he was also a regular on the 1976 television show cos starring bill cosby1']\n",
      "-------------------\n",
      "[ 'scott mathews born july 25 1955 is an american music producer composer performer and entrepreneur with sales of more than 40 million records sold as a producer composer multiinstrumentalist and vocalist he has earned 20 gold and multiplatinum awards and has worked on decades of grammy and oscar award winning projectshe has produced elvis costello roy orbison rosanne cash jerry garcia huey lewis john hiatt nick lowe dick dale sammy hagar van dyke parks and many others he has written songs andor recorded with a diversity of artists from barbra streisand to john lee hooker including keith richards george harrison mick jagger the beach boys eric clapton van morrison bonnie raitt david bowie steve perry johnny cash todd rundgren robert cray ry cooder the tubes sammy hagar jefferson starship and raphael saadiq he has performed on various musical instruments with neil young john fogerty kid rock steve miller carlos santana boz scaggs jimmy buffett zac brown ringo starr joe walsh dwight yoakam clint black tom waits chris isaak and joe satriani along with more than 70 rock roll hall of fame inductees and on several grammy award and oscar award winning releases as an artist he recorded as drocs for capitol records with his longtime writing partner ron nagle and established the video department at capitol just prior to mtv']\n"
     ]
    },
    {
     "data": {
      "text/html": [
       "<div>\n",
       "<style>\n",
       "    .dataframe thead tr:only-child th {\n",
       "        text-align: right;\n",
       "    }\n",
       "\n",
       "    .dataframe thead th {\n",
       "        text-align: left;\n",
       "    }\n",
       "\n",
       "    .dataframe tbody tr th {\n",
       "        vertical-align: top;\n",
       "    }\n",
       "</style>\n",
       "<table border=\"1\" class=\"dataframe\">\n",
       "  <thead>\n",
       "    <tr style=\"text-align: right;\">\n",
       "      <th></th>\n",
       "      <th>names</th>\n",
       "      <th>cluster</th>\n",
       "    </tr>\n",
       "  </thead>\n",
       "  <tbody>\n",
       "    <tr>\n",
       "      <th>33069</th>\n",
       "      <td>Gordon Perry (producer)</td>\n",
       "      <td>2</td>\n",
       "    </tr>\n",
       "    <tr>\n",
       "      <th>53040</th>\n",
       "      <td>Rafa%C5%82 Stradomski</td>\n",
       "      <td>2</td>\n",
       "    </tr>\n",
       "    <tr>\n",
       "      <th>9410</th>\n",
       "      <td>Jane Antonia Cornish</td>\n",
       "      <td>2</td>\n",
       "    </tr>\n",
       "    <tr>\n",
       "      <th>25063</th>\n",
       "      <td>Buzzy Linhart</td>\n",
       "      <td>2</td>\n",
       "    </tr>\n",
       "    <tr>\n",
       "      <th>4296</th>\n",
       "      <td>Scott Mathews</td>\n",
       "      <td>2</td>\n",
       "    </tr>\n",
       "  </tbody>\n",
       "</table>\n",
       "</div>"
      ],
      "text/plain": [
       "                         names  cluster\n",
       "33069  Gordon Perry (producer)        2\n",
       "53040    Rafa%C5%82 Stradomski        2\n",
       "9410      Jane Antonia Cornish        2\n",
       "25063            Buzzy Linhart        2\n",
       "4296             Scott Mathews        2"
      ]
     },
     "execution_count": 51,
     "metadata": {},
     "output_type": "execute_result"
    }
   ],
   "source": [
    "print(dataset['text'][dataset['name']=='Buzzy Linhart'].values)\n",
    "print(\"-------------------\")\n",
    "print(dataset['text'][dataset['name']=='Scott Mathews'].values)\n",
    "results[results['cluster']==2].head()"
   ]
  },
  {
   "cell_type": "code",
   "execution_count": 53,
   "metadata": {},
   "outputs": [
    {
     "name": "stdout",
     "output_type": "stream",
     "text": [
      "[ 'alfred b roc ordman born october 25 1948 is an american biochemist and researcher into aging life extension and the effects of free radicals on the bodyhe is professor of chemistry and biochemistry at beloit college beloit wisconsinhe is also visiting professor of biochemistry rush medical college a private university in chicago illinoishe has recommended that adults get 500 mg of vitamin c twice per day to achieve the highest level that can be maintained in the blood serum this is a level far above official recommendations and for which he now holds patents a study published in 2006 demonstrated how a combination of 500 mg of vitamin c taken twice a day and 400 iu of vitamin e once a day protects a person from many forms of damage from free radicals 1his latest work used a process known as nutrient signaling to develop a nutraceutical treatment that may cause weight loss the process uses signals from supplements of branched chain amino acids oleic acid and dha a component of fish oil to signal the brain and adipose tissue to cause weight loss a doubleblind clinical trial in a 2week pilot study was consistent with the hypothesis this may facilitate weight reduction in people the peerreviewed article was published in the journal of the american aging association in 20082professor ordman lives in monticello green county wisconsin usa and is a lifelong stamp collector']\n",
      "-------------------\n",
      "[ 'keith gilbert robbins frse frhists flsw born 9 april 1940 is a historian and former vicechancellor of the university of wales lampeter robbins was educated at bristol grammar school and magdalen and st antonys colleges oxfordhis academic career began in 1963 as assistant lecturer in history at the university of york where he subsequently became lecturer he moved to the university college of north wales bangor in 1971 as professor of history and was later appointed dean of the faculty of arts in 1980 he moved to the university of glasgow as professor of modern historyhis final academic post was as vicechancellor of the university of wales lampeter between 1992 until 2003 when he was succeeded by professor robert a pearce during his time as vicechancellor at lampeter he also served as senior vicechancellor of the federal university of wales between 1995 and 2001 he was also a welsh supernumerary fellow of jesus college oxford for the academic years 19967 and 20023in 2005 the university of wales awarded robbins an honorary degree of dlitt in recognition of his years of service to university of wales institutions and the field of historyhe is also a founding fellow of the learned society of wales and is a member of its inaugural council']\n"
     ]
    },
    {
     "data": {
      "text/html": [
       "<div>\n",
       "<style>\n",
       "    .dataframe thead tr:only-child th {\n",
       "        text-align: right;\n",
       "    }\n",
       "\n",
       "    .dataframe thead th {\n",
       "        text-align: left;\n",
       "    }\n",
       "\n",
       "    .dataframe tbody tr th {\n",
       "        vertical-align: top;\n",
       "    }\n",
       "</style>\n",
       "<table border=\"1\" class=\"dataframe\">\n",
       "  <thead>\n",
       "    <tr style=\"text-align: right;\">\n",
       "      <th></th>\n",
       "      <th>names</th>\n",
       "      <th>cluster</th>\n",
       "    </tr>\n",
       "  </thead>\n",
       "  <tbody>\n",
       "    <tr>\n",
       "      <th>21387</th>\n",
       "      <td>Henryk Skolimowski</td>\n",
       "      <td>3</td>\n",
       "    </tr>\n",
       "    <tr>\n",
       "      <th>46598</th>\n",
       "      <td>Keith Robbins</td>\n",
       "      <td>3</td>\n",
       "    </tr>\n",
       "    <tr>\n",
       "      <th>36055</th>\n",
       "      <td>Roc Ordman</td>\n",
       "      <td>3</td>\n",
       "    </tr>\n",
       "    <tr>\n",
       "      <th>30424</th>\n",
       "      <td>Carlo Gambacorti-Passerini</td>\n",
       "      <td>3</td>\n",
       "    </tr>\n",
       "    <tr>\n",
       "      <th>53114</th>\n",
       "      <td>Syed Babar Ali</td>\n",
       "      <td>3</td>\n",
       "    </tr>\n",
       "  </tbody>\n",
       "</table>\n",
       "</div>"
      ],
      "text/plain": [
       "                            names  cluster\n",
       "21387          Henryk Skolimowski        3\n",
       "46598               Keith Robbins        3\n",
       "36055                  Roc Ordman        3\n",
       "30424  Carlo Gambacorti-Passerini        3\n",
       "53114              Syed Babar Ali        3"
      ]
     },
     "execution_count": 53,
     "metadata": {},
     "output_type": "execute_result"
    }
   ],
   "source": [
    "print(dataset['text'][dataset['name']=='Roc Ordman'].values)\n",
    "print(\"-------------------\")\n",
    "print(dataset['text'][dataset['name']=='Keith Robbins'].values)\n",
    "results[results['cluster']==3].head()"
   ]
  },
  {
   "cell_type": "code",
   "execution_count": 54,
   "metadata": {
    "scrolled": true
   },
   "outputs": [
    {
     "name": "stdout",
     "output_type": "stream",
     "text": [
      "[ 'leendert leen verbeek born march 5 1954 in leiderdorp is a dutch politician and former civil servant and social worker he is a member of the labour party partij van de arbeid he has served as mayor of purmerend from april 2003 till november 2008 on november 1 2008 he became queens commissioner of the province of flevolandverbeek spent his early years in eindhoven after the mulo currentday vmbo and a year of high school in the usa he attended the academy for educational labour in baarn he then started to work as a youth worker in leidenten years later verbeek started his political career through political institutions ending up as an alderman in houten 19891996 he was appointed mayor of purmerend in between he was director of a selfcreated companyon december 18 2007 it was announced that verbeek was a candidate for mayor of eindhoven along with rob van gijzel a referendum was held on january 23 2008 in which verbeek scored 33 of the votes but because the required number of voters was not met the referendum was nullified and the decision was made inhouse which resulted in rob van gijzel being appointed mayor of eindhoven verbeek was replaced by fons hertog as mayor of purmerend in november 2008 as verbeek was appointed the queens commissioner for the province of flevoland']\n",
      "-------------------\n",
      "[ 'gregory francis thompson pc mp born march 28 1947 in st stephen new brunswick is a canadian politician who served six terms as an mpthompson a high school teacher a businessman and financial planner was first elected into the canadian house of commons in the canadian federal election 1988 as a member of the progressive conservative party of canada he was elected in the riding of carletoncharlotte his bid for reelection in the canadian federal election 1993 was unsuccessful and he was defeated by harold culbert of the liberal party of canada by fewer than 1000 votesthompson however ran again in the next election and was reelected in the riding of charlotte where he defeated culbert thompson was reelected in the canadian federal election 2000 in the riding of new brunswick southwest and again the canadian federal election 2004 in the riding of st croixbelleisle shortly before the 2004 election he joined the new conservative party of canada he was reelected in the 2006 federal election in the 2008 federal election he was elected for a sixth term in the riding of new brunswick southwest by garnering over 58 of the voteduring his time in parliament he has served as the critic of human resources development the treasury board regional development health and public accounts as well as critic of the atlantic canada opportunities agency on february 6 2006 he was appointed minister of veterans affairs in stephen harpers cabinet in april 2007 he and harper told the press in kitchener ontario that a veterans bill of rights would come into effect soon and there would be a new ombudsman for veterans along with ithe was formerly a high school history teacher at fundy high school from 19751980he resigned from his position in cabinet on january 16 2010 because years of travel had worn him down and he wasnt looking forward to making a trip to new zealand due to the length and time he had to invest in the trip he also announced he would not run in the 2011 federal election']\n"
     ]
    },
    {
     "data": {
      "text/html": [
       "<div>\n",
       "<style>\n",
       "    .dataframe thead tr:only-child th {\n",
       "        text-align: right;\n",
       "    }\n",
       "\n",
       "    .dataframe thead th {\n",
       "        text-align: left;\n",
       "    }\n",
       "\n",
       "    .dataframe tbody tr th {\n",
       "        vertical-align: top;\n",
       "    }\n",
       "</style>\n",
       "<table border=\"1\" class=\"dataframe\">\n",
       "  <thead>\n",
       "    <tr style=\"text-align: right;\">\n",
       "      <th></th>\n",
       "      <th>names</th>\n",
       "      <th>cluster</th>\n",
       "    </tr>\n",
       "  </thead>\n",
       "  <tbody>\n",
       "    <tr>\n",
       "      <th>41945</th>\n",
       "      <td>Leen Verbeek</td>\n",
       "      <td>4</td>\n",
       "    </tr>\n",
       "    <tr>\n",
       "      <th>13707</th>\n",
       "      <td>Greg Thompson</td>\n",
       "      <td>4</td>\n",
       "    </tr>\n",
       "    <tr>\n",
       "      <th>32005</th>\n",
       "      <td>Soledad Alvear</td>\n",
       "      <td>4</td>\n",
       "    </tr>\n",
       "    <tr>\n",
       "      <th>41918</th>\n",
       "      <td>%C3%87evik Bir</td>\n",
       "      <td>4</td>\n",
       "    </tr>\n",
       "    <tr>\n",
       "      <th>22145</th>\n",
       "      <td>Chi Hong (Sam) Wong</td>\n",
       "      <td>4</td>\n",
       "    </tr>\n",
       "  </tbody>\n",
       "</table>\n",
       "</div>"
      ],
      "text/plain": [
       "                     names  cluster\n",
       "41945         Leen Verbeek        4\n",
       "13707        Greg Thompson        4\n",
       "32005       Soledad Alvear        4\n",
       "41918       %C3%87evik Bir        4\n",
       "22145  Chi Hong (Sam) Wong        4"
      ]
     },
     "execution_count": 54,
     "metadata": {},
     "output_type": "execute_result"
    }
   ],
   "source": [
    "print(dataset['text'][dataset['name']=='Leen Verbeek'].values)\n",
    "print(\"-------------------\")\n",
    "print(dataset['text'][dataset['name']=='Greg Thompson'].values)\n",
    "results[results['cluster']==4].head()"
   ]
  },
  {
   "cell_type": "markdown",
   "metadata": {},
   "source": [
    "# We can see that the algorithm has clustered the data pretty well"
   ]
  }
 ],
 "metadata": {
  "kernelspec": {
   "display_name": "py3.conda",
   "language": "python",
   "name": "py3.conda"
  },
  "language_info": {
   "codemirror_mode": {
    "name": "ipython",
    "version": 3
   },
   "file_extension": ".py",
   "mimetype": "text/x-python",
   "name": "python",
   "nbconvert_exporter": "python",
   "pygments_lexer": "ipython3",
   "version": "3.6.0"
  }
 },
 "nbformat": 4,
 "nbformat_minor": 2
}
